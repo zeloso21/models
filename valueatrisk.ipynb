{
  "nbformat": 4,
  "nbformat_minor": 0,
  "metadata": {
    "colab": {
      "name": "Untitled16.ipynb",
      "provenance": [],
      "authorship_tag": "ABX9TyNcfQbQMpnHLXNywTxttf/6",
      "include_colab_link": true
    },
    "kernelspec": {
      "name": "python3",
      "display_name": "Python 3"
    }
  },
  "cells": [
    {
      "cell_type": "markdown",
      "metadata": {
        "id": "view-in-github",
        "colab_type": "text"
      },
      "source": [
        "<a href=\"https://colab.research.google.com/github/zeloso21/models/blob/master/valueatrisk.ipynb\" target=\"_parent\"><img src=\"https://colab.research.google.com/assets/colab-badge.svg\" alt=\"Open In Colab\"/></a>"
      ]
    },
    {
      "cell_type": "code",
      "metadata": {
        "id": "kVFU1X-Eq1T-",
        "colab_type": "code",
        "colab": {
          "base_uri": "https://localhost:8080/",
          "height": 34
        },
        "outputId": "ac5d944c-4623-40c8-82fc-38e775dc3a07"
      },
      "source": [
        "from tiingo import TiingoClient\n",
        "import pandas as pd, datetime, numpy as np\n",
        "import matplotlib.pyplot as plt\n",
        "import datetime\n",
        "import warnings\n",
        "warnings.filterwarnings('ignore') #Tiingo API is returning a warning due to an upcoming pandas update\n",
        "#User Set Up\n",
        "data = {'Stocks':['GOOGL', 'TSLA','AAPL'], 'Quantity':[100, 50, 300]} #Define your holdings\n",
        "ScenariosNo = 500 #Define the number of scenarios you want to run\n",
        "Percentile = 99 #Define your confidence interval\n",
        "VarDaysHorizon = 1 #Define your time period\n",
        "info = 1 #1 if you want more info returned by the script\n",
        "# Create a DataFrame of holdings\n",
        "df = pd.DataFrame(data)\n",
        "print('[INFO] Calculating the max amount of money the portfolio will lose within', VarDaysHorizon, 'days', Percentile, 'percent of the time.')\n",
        "today = datetime.date.today() - datetime.timedelta(days=1)\n",
        "def is_business_day(date):\n",
        "    return bool(len(pd.bdate_range(date, date)))\n",
        "def dateforNoOfScenarios(date):\n",
        "    i=0\n",
        "    w=0\n",
        "    while i < ScenariosNo:\n",
        "        if (is_business_day(today - datetime.timedelta(days = w)) == True):\n",
        "            i = i+1\n",
        "            w = w+1\n",
        "        else:\n",
        "            w = w+1\n",
        "            continue\n",
        "    #print('gotta go back these many business days',i)\n",
        "    #print('gotta go back these many days',w)\n",
        "    #remember to add an extra day (days +1 = scenario numbers)\n",
        "    return(today - datetime.timedelta(days = w*1.04 + 1)) #4% is an arbitary number i've calculated the holidays to be in 500days.\n",
        "def SourceHistoricPrices():\n",
        "    if info == 1: print('[INFO] Fetching stock prices for portfolio holdings')\n",
        "    #Set Up for Tiingo\n",
        "    config = {}\n",
        "    config['session'] = True\n",
        "    config['api_key'] = '2763b8e218f691f1c6a56c23959fa8a6f0e1e922' #tiingo에서 private key를 받음, 회원가입시\n",
        "    client = TiingoClient(config)\n",
        "    #Create a list of tickers for the API call\n",
        "    Tickers = []\n",
        "    i=0\n",
        "    for ticker in data:\n",
        "        while i <= len(data):\n",
        "            Tickers.append(data[ticker][i])\n",
        "            i=i+1\n",
        "    if info == 1: print('[INFO] Portfolio Holdings determined as', Tickers)\n",
        "    if info == 1: print('[INFO] Portfolio Weights determined as', data['Quantity'])\n",
        "    #Call the API and store the data\n",
        "    global HistData\n",
        "    HistData = client.get_dataframe(Tickers, metric_name='close', startDate=dateforNoOfScenarios(today), endDate=today)\n",
        "    if info == 1: print('[INFO] Fetching stock prices completed.', len(HistData), 'days.')\n",
        "    return(HistData)"
      ],
      "execution_count": 12,
      "outputs": [
        {
          "output_type": "stream",
          "text": [
            "[INFO] Calculating the max amount of money the portfolio will lose within 1 days 99 percent of the time.\n"
          ],
          "name": "stdout"
        }
      ]
    },
    {
      "cell_type": "code",
      "metadata": {
        "id": "OIWcG8yxp-dA",
        "colab_type": "code",
        "colab": {}
      },
      "source": [
        "def ValuePortfolio():\n",
        "    HistData['PortValue'] = 0\n",
        "    i=0\n",
        "    if info == 1: print('[INFO] Calculating the portfolio value for each day')\n",
        "    while i<= len(data):\n",
        "        stock = data['Stocks'][i]\n",
        "        quantity = data['Quantity'][i]\n",
        "        HistData['PortValue'] = HistData[stock] * quantity + HistData['PortValue']\n",
        "        i = i+1\n",
        "def CalculateVaR():\n",
        "    if info == 1: print('[INFO] Calculating Daily % Changes')\n",
        "    #calculating percentage change\n",
        "    HistData['Perc_Change'] = HistData['PortValue'].pct_change()\n",
        "    #calculate money change based on current valuation\n",
        "    HistData['DollarChange'] = HistData.loc[HistData.index.max()]['PortValue'] * HistData['Perc_Change'] \n",
        "    if info == 1: print('[INFO] Picking', round(HistData.loc[HistData.index.max()]['PortValue'],2),' value from ', HistData.index.max().strftime('%Y-%m-%d'), ' as the latest valuation to base the monetary returns')\n",
        "    ValueLocForPercentile = round(len(HistData) * (1 - (Percentile / 100)))\n",
        "    if info == 1: print('[INFO] Picking the', ValueLocForPercentile, 'th highest value')\n",
        "    global SortedHistData\n",
        "    SortedHistData = HistData.sort_values(by=['DollarChange'])\n",
        "    if info == 1: print('[INFO] Sorting the results by highest max loss')\n",
        "    VaR_Result = SortedHistData.iloc[ValueLocForPercentile + 1,len(SortedHistData.columns)-1] * np.sqrt(VarDaysHorizon)\n",
        "    print('The portfolio\\'s VaR is:', round(VaR_Result,2))\n",
        "def CalculateES():\n",
        "    ValueLocForPercentile = round(len(HistData) * (1 - (Percentile / 100)))\n",
        "    ES_Result = round(SortedHistData['DollarChange'].head(ValueLocForPercentile).mean(axis=0),2) * np.sqrt(VarDaysHorizon)\n",
        "    print('The portfolios\\'s Expected Shortfall is', ES_Result)\n"
      ],
      "execution_count": 13,
      "outputs": []
    },
    {
      "cell_type": "code",
      "metadata": {
        "id": "PE5oH09Irmoh",
        "colab_type": "code",
        "colab": {
          "base_uri": "https://localhost:8080/",
          "height": 204
        },
        "outputId": "935c4dd1-33bc-4595-dc7e-7243a1c3ff16"
      },
      "source": [
        "SourceHistoricPrices()\n",
        "ValuePortfolio()\n",
        "CalculateVaR()\n",
        "CalculateES()\n"
      ],
      "execution_count": 15,
      "outputs": [
        {
          "output_type": "stream",
          "text": [
            "[INFO] Fetching stock prices for portfolio holdings\n",
            "[INFO] Portfolio Holdings determined as ['GOOGL', 'TSLA', 'AAPL']\n",
            "[INFO] Portfolio Weights determined as [100, 50, 300]\n",
            "[INFO] Fetching stock prices completed. 503 days.\n",
            "[INFO] Calculating the portfolio value for each day\n",
            "[INFO] Calculating Daily % Changes\n",
            "[INFO] Picking 309414.5  value from  2020-07-01  as the latest valuation to base the monetary returns\n",
            "[INFO] Picking the 5 th highest value\n",
            "[INFO] Sorting the results by highest max loss\n",
            "The portfolio's VaR is: -15272.52\n",
            "The portfolios's Expected Shortfall is -26220.17\n"
          ],
          "name": "stdout"
        }
      ]
    }
  ]
}